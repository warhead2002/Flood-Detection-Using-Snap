{
 "cells": [
  {
   "cell_type": "markdown",
   "id": "3cc78572-4ba6-442e-804b-d753911a69f5",
   "metadata": {},
   "source": [
    "<h1>Flood detection with flooded regions</h1>\n",
    "<a href=\"https://docs.google.com/spreadsheets/d/1RODj4LmFmEPsnqpVyjow8-0KfDw94pJEZzKBhJkgzts/edit?usp=sharing\">Dataset Link</a>"
   ]
  },
  {
   "cell_type": "markdown",
   "id": "b863f235-1599-489b-be7c-02ceb1fef2e8",
   "metadata": {},
   "source": [
    "<h3><b>Location list</b><br><br>\n",
    "-bozkurt<br>\n",
    "-ceska lipa<br>\n",
    "-liege<br>\n",
    "-sarajevo<br>\n",
    "-skopje<br>\n",
    "-venice <br>\n",
    "</h3>"
   ]
  },
  {
   "cell_type": "code",
   "execution_count": 1,
   "id": "f82c6819-53c2-475d-8ab4-633a1cd8ffb3",
   "metadata": {},
   "outputs": [],
   "source": [
    "#Python modules import\n",
    "import os\n",
    "from PIL import Image\n",
    "import cv2"
   ]
  },
  {
   "cell_type": "markdown",
   "id": "07f780f9-c502-48d4-90da-7766ec119514",
   "metadata": {},
   "source": [
    "<h3>Resize images to same size</h3>"
   ]
  },
  {
   "cell_type": "code",
   "execution_count": 2,
   "id": "ac0380fe-6c28-4174-8797-fbae407f229d",
   "metadata": {},
   "outputs": [],
   "source": [
    "#resize images\n",
    "def resize(name):\n",
    "    \n",
    "    img = cv2.imread(name)\n",
    "    Nimg = cv2.resize(img,(1250,840))   # image resizing\n",
    "    cv2.imwrite(\"resized/\"+name, Nimg)\n",
    "    img = cv2.imread(\"resized/\"+name)\n",
    "    print(\"Resized: \",name)\n",
    "#     print(\"New size: \",img.shape)\n",
    "\n",
    "# files = os.listdir('D:/Earth Science data/flood detection/task 1')\n",
    "# # images = [\"bozkurt-before.png\",\"bozkurt-flood.png\"]\n",
    "# images = [\"bozkurt\",\"ceskalipa\",\"liege\",\"sarajevo\",\"skopje\",\"venice\",\"wales\"]\n",
    "\n",
    "# for i in files:\n",
    "#     for j in images:\n",
    "#         if j+\"-flood.png\"==i:\n",
    "#             resize(j+\"-flood.png\")\n",
    "#         if j+\"-before.png\"==i:\n",
    "#             resize(j+\"-before.png\")"
   ]
  },
  {
   "cell_type": "markdown",
   "id": "85c816ca-ecfd-4e3e-bdf3-b9b1696b9da2",
   "metadata": {},
   "source": [
    "<h3>Create Flood Mask</h3>"
   ]
  },
  {
   "cell_type": "code",
   "execution_count": 3,
   "id": "c314ae0d-07e1-422e-ad51-5a323b665cc1",
   "metadata": {},
   "outputs": [],
   "source": [
    "#Create flood Mask\n",
    "def flood_mask(file,file1,name):\n",
    "    #Lists\n",
    "    rgb=[]\n",
    "    rgb1=[]\n",
    "    mask = []\n",
    "    # Read Image\n",
    "    img = Image.open(file)\n",
    "    img1 = Image.open(file1)\n",
    "\n",
    "    #Convert image to RGB format\n",
    "    img.convert('RGB')\n",
    "    img1.convert('RGB')\n",
    "    #Find number of pixels\n",
    "    width, height = img.size\n",
    "    total_pixel=width*height\n",
    "\n",
    "    #set threshold and colour RGB values\n",
    "    diff = 50\n",
    "    colour = (0,0,255)\n",
    "\n",
    "    #Fetch colour of all pixels\n",
    "    count = 0\n",
    "    for x in range(0, width):\n",
    "        for y in range(0, height):\n",
    "            r, g, b = img.getpixel((x,y))\n",
    "            r1, g1, b1 = img1.getpixel((x,y))\n",
    "            rgb.append((r,g,b))\n",
    "            rgb1.append((r1,g1,b1))\n",
    "            if r in range(r1-diff,r1+diff):\n",
    "                if g in range(g1-diff,g1+diff):\n",
    "                    if b in range(b1-diff,b1+diff):\n",
    "                        mask.insert(count,(r,g,b))\n",
    "                    else:mask.insert(count,(0,0,0))\n",
    "                else:mask.insert(count,(0,0,0))\n",
    "            else:mask.insert(count,(0,0,0))\n",
    "            count += 1\n",
    "\n",
    "#     print(\"Total pixels: \",len(rgb),\"\\nMask pixel: \",len(mask))\n",
    "    im = Image.new(\"RGB\",(width,height))\n",
    "    im.putdata(mask)\n",
    "    im.save(name+'-mask.png')"
   ]
  },
  {
   "cell_type": "markdown",
   "id": "794db634-93c0-4a30-bb8f-9a1e40d9bcfc",
   "metadata": {},
   "source": [
    "<h3>Detect Flood from the mask</h3>"
   ]
  },
  {
   "cell_type": "code",
   "execution_count": 4,
   "id": "cb4a56e5-c305-4c78-a09f-c6fd336aa616",
   "metadata": {},
   "outputs": [],
   "source": [
    "#Flood detection\n",
    "def detect(filename):\n",
    "    #Lists\n",
    "    rgb=[]\n",
    "    flood_pixel=[]\n",
    "\n",
    "    # Read Image\n",
    "    img = Image.open(filename)\n",
    "\n",
    "    #Convert image to RGB format\n",
    "    img.convert('RGB')\n",
    "\n",
    "    #Find number of pixels\n",
    "    width, height = img.size\n",
    "    total_pixel=width*height\n",
    "\n",
    "    #Fetch colour of all pixels\n",
    "    for x in range(0, width):\n",
    "        for y in range(0, height):\n",
    "            r, g, b = img.getpixel((x,y))\n",
    "            rgb.append((r,g,b))\n",
    "\n",
    "    #set threshold and colour RGB values\n",
    "    diff = 50\n",
    "    colour = (0,0,255)\n",
    "\n",
    "    #Find pixels in range of colour+-threshold\n",
    "    for i in range(len(rgb)):\n",
    "        if rgb[i][0] in range(colour[0]-diff,colour[0]+diff):\n",
    "            r = rgb[i][0]\n",
    "            if rgb[i][1] in range(colour[1]-diff,colour[1]+diff):\n",
    "                g = rgb[i][1]\n",
    "                if rgb[i][2] in range(colour[2]-diff,colour[2]+diff):\n",
    "                    b = rgb[i][2]\n",
    "                    flood_pixel.append((r,g,b))\n",
    "\n",
    "#     #Find percent of water present and if it is flooded or not\n",
    "#     water_percent = len(flood_pixel)/total_pixel*100\n",
    "#     print(\"Percentage of water: \",water_percent,'%')\n",
    "#     if water_percent>water_threshold:\n",
    "#         return 1\n",
    "#     else:\n",
    "#         return 0\n",
    "    print(\"Flooded Pixels:\",len(flood_pixel),\"\\nNon Flood Pixels:\",len(rgb)-len(flood_pixel))\n",
    "    print(\"End of\",filename,\"detection part\")\n",
    "    return (len(rgb),len(flood_pixel))"
   ]
  },
  {
   "cell_type": "markdown",
   "id": "a73cc35d-2d7c-401b-98fa-a2d9af2cf2ff",
   "metadata": {},
   "source": [
    "<h3>Create Confusion Matrix</h3>"
   ]
  },
  {
   "cell_type": "code",
   "execution_count": 5,
   "id": "d72715fc-55dd-4b0c-b368-82c4fe1991a5",
   "metadata": {},
   "outputs": [],
   "source": [
    "def create_confusion(actual,predicted,title):\n",
    "    #Confusion matrix generation\n",
    "    import matplotlib.pyplot as plt\n",
    "    import numpy\n",
    "    from sklearn import metrics\n",
    "\n",
    "    confusion_matrix = metrics.confusion_matrix(actual, predicted)\n",
    "\n",
    "    cm_display = metrics.ConfusionMatrixDisplay(confusion_matrix = confusion_matrix, display_labels = ['Non Flood', 'Flood'])\n",
    "\n",
    "    cm_display.plot()\n",
    "    plt.title(title)\n",
    "    plt.xlabel(\"Predicted\")\n",
    "    plt.ylabel(\"Actual\")\n",
    "    plt.show()"
   ]
  },
  {
   "cell_type": "code",
   "execution_count": 6,
   "id": "43eb76be-fad1-4d50-9d2a-5af879af3d5c",
   "metadata": {},
   "outputs": [
    {
     "name": "stdout",
     "output_type": "stream",
     "text": [
      "Resized:  bozkurt-flood.png\n",
      "Resized:  bozkurt-before.png\n",
      "Flooded Pixels: 3810 \n",
      "Non Flood Pixels: 1046190\n",
      "End of bozkurt-mask.png detection part\n",
      "Resized:  ceskalipa-flood.png\n",
      "Resized:  ceskalipa-before.png\n",
      "Flooded Pixels: 16254 \n",
      "Non Flood Pixels: 1033746\n",
      "End of ceskalipa-mask.png detection part\n",
      "Resized:  liege-flood.png\n",
      "Resized:  liege-before.png\n",
      "Flooded Pixels: 12556 \n",
      "Non Flood Pixels: 1037444\n",
      "End of liege-mask.png detection part\n",
      "Resized:  sarajevo-flood.png\n",
      "Resized:  sarajevo-before.png\n",
      "Flooded Pixels: 8667 \n",
      "Non Flood Pixels: 1041333\n",
      "End of sarajevo-mask.png detection part\n",
      "Resized:  skopje-flood.png\n",
      "Resized:  skopje-before.png\n",
      "Flooded Pixels: 5184 \n",
      "Non Flood Pixels: 1044816\n",
      "End of skopje-mask.png detection part\n",
      "Resized:  venice-flood.png\n",
      "Resized:  venice-before.png\n",
      "Flooded Pixels: 5527 \n",
      "Non Flood Pixels: 1044473\n",
      "End of venice-mask.png detection part\n"
     ]
    }
   ],
   "source": [
    "location = ['bozkurt','ceskalipa','liege','sarajevo','skopje','venice']\n",
    "for loc in location:\n",
    "    try:\n",
    "        #resize\n",
    "        resize(loc+\"-flood.png\")\n",
    "        resize(loc+\"-before.png\")\n",
    "        #flood mask\n",
    "        im = \"resized/\"+loc+\"-flood.png\"\n",
    "        im1 = \"resized/\"+loc+\"-before.png\"\n",
    "        flood_mask(im,im1,loc)\n",
    "        #detect flooding\n",
    "        npixel,flooded = detect(loc+\"-mask.png\")\n",
    "        nonflood = npixel-flooded\n",
    "#         print(\"Flooded Pixels: \"+flooded)\n",
    "    except Exception as e:\n",
    "        print(\"Exception: \",e)"
   ]
  },
  {
   "cell_type": "code",
   "execution_count": 7,
   "id": "3cfdfda6-7a66-4273-a2e0-1b70c2ecc155",
   "metadata": {},
   "outputs": [
    {
     "data": {
      "image/png": "[encoded data removed]",
      "text/plain": [
       "<Figure size 432x288 with 2 Axes>"
      ]
     },
     "metadata": {
      "needs_background": "light"
     },
     "output_type": "display_data"
    }
   ],
   "source": [
    "import matplotlib.pyplot as plt\n",
    "import numpy\n",
    "from sklearn import metrics\n",
    "\n",
    "actual = [True,True,False,False]\n",
    "predicted = [True,True,True,True]\n",
    "title = \"Test\"\n",
    "confusion_matrix = metrics.confusion_matrix(actual, predicted)\n",
    "\n",
    "cm_display = metrics.ConfusionMatrixDisplay(confusion_matrix = confusion_matrix, display_labels = ['Non Flood', 'Flood'])\n",
    "\n",
    "cm_display.plot()\n",
    "plt.title(title)\n",
    "plt.xlabel(\"Predicted\")\n",
    "plt.ylabel(\"Actual\")\n",
    "plt.show()"
   ]
  },
  {
   "cell_type": "code",
   "execution_count": null,
   "id": "ca3de008-5de3-47f6-a178-0f58d2867e74",
   "metadata": {},
   "outputs": [],
   "source": []
  }
 ],
 "metadata": {
  "kernelspec": {
   "display_name": "Python 3 (ipykernel)",
   "language": "python",
   "name": "python3"
  },
  "language_info": {
   "codemirror_mode": {
    "name": "ipython",
    "version": 3
   },
   "file_extension": ".py",
   "mimetype": "text/x-python",
   "name": "python",
   "nbconvert_exporter": "python",
   "pygments_lexer": "ipython3",
   "version": "3.9.6"
  }
 },
 "nbformat": 4,
 "nbformat_minor": 5
}
