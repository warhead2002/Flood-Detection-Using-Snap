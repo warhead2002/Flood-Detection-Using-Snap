{
 "cells": [
  {
   "cell_type": "markdown",
   "id": "3cc78572-4ba6-442e-804b-d753911a69f5",
   "metadata": {},
   "source": [
    "<h1>Flood detection with flooded regions</h1>\n",
    "<a href=\"https://docs.google.com/spreadsheets/d/1RODj4LmFmEPsnqpVyjow8-0KfDw94pJEZzKBhJkgzts/edit?usp=sharing\">Dataset Link</a>"
   ]
  },
  {
   "cell_type": "markdown",
   "id": "b863f235-1599-489b-be7c-02ceb1fef2e8",
   "metadata": {},
   "source": [
    "<h3><b>Location list</b><br><br>\n",
    "-bozkurt<br>\n",
    "-ceska lipa<br>\n",
    "-liege<br>\n",
    "-sarajevo<br>\n",
    "-skopje<br>\n",
    "-venice <br>\n",
    "-wales\n",
    "</h3>"
   ]
  },
  {
   "cell_type": "code",
   "execution_count": 36,
   "id": "ac0380fe-6c28-4174-8797-fbae407f229d",
   "metadata": {},
   "outputs": [
    {
     "name": "stdout",
     "output_type": "stream",
     "text": [
      "New size:  (840, 1250, 3)\n",
      "New size:  (840, 1250, 3)\n"
     ]
    }
   ],
   "source": [
    "#resize image\n",
    "import os\n",
    "import cv2\n",
    "\n",
    "def resize(name):\n",
    "    img = cv2.imread(name)\n",
    "    Nimg = cv2.resize(img,(1250,840))   # image resizing\n",
    "    cv2.imwrite(\"resized/\"+name, Nimg)\n",
    "    img = cv2.imread(\"resized/\"+name)\n",
    "    print(\"New size: \",img.shape)\n",
    "\n",
    "images = [\"bozkurt-before.png\",\"bozkurt-flood.png\"]\n",
    "for i in images:\n",
    "    resize(i)"
   ]
  },
  {
   "cell_type": "code",
   "execution_count": 1,
   "id": "419a2efa-921d-4785-88c7-23ea864ecc43",
   "metadata": {},
   "outputs": [
    {
     "name": "stdout",
     "output_type": "stream",
     "text": [
      "(843, 1251, 3)\n",
      "(841, 1255, 3)\n"
     ]
    }
   ],
   "source": [
    "#Remove overlapping part from images\n",
    "import cv2\n",
    "\n",
    "# load images\n",
    "image1 = cv2.imread(\"bozkurt-flood.png\")\n",
    "image2 = cv2.imread(\"bozkurt-before.png\")\n",
    "print(image1.shape)\n",
    "print(image2.shape)\n",
    "# # compute difference\n",
    "# difference = cv2.subtract(image1, image2)\n",
    "\n",
    "# # color the mask red\n",
    "# Conv_hsv_Gray = cv2.cvtColor(difference, cv2.COLOR_BGR2GRAY)\n",
    "# ret, mask = cv2.threshold(Conv_hsv_Gray, 0, 255,cv2.THRESH_BINARY_INV |cv2.THRESH_OTSU)\n",
    "# difference[mask != 255] = [0, 0, 255]\n",
    "\n",
    "# # add the red mask to the images to make the differences obvious\n",
    "# image1[mask != 255] = [0, 0, 255]\n",
    "# image2[mask != 255] = [0, 0, 255]\n",
    "\n",
    "# # store images\n",
    "# # cv2.imwrite('diffOverImage1.png', image1)\n",
    "# # cv2.imwrite('diffOverImage2.png', image1)\n",
    "# cv2.imwrite('diff.png', difference)"
   ]
  },
  {
   "cell_type": "code",
   "execution_count": null,
   "id": "f4116319-d1c0-43d1-84c6-d843398c11dd",
   "metadata": {},
   "outputs": [],
   "source": [
    "#Find wether area is flooded or not"
   ]
  },
  {
   "cell_type": "code",
   "execution_count": null,
   "id": "eaef8246-8786-43f6-a31c-0eccb9ba6955",
   "metadata": {},
   "outputs": [],
   "source": [
    "#Do accuracy analysis of detected area and create confusion matrix showing pixel accuracy"
   ]
  },
  {
   "cell_type": "code",
   "execution_count": null,
   "id": "fb9118c0-259c-40bd-aa05-955f5b9f288b",
   "metadata": {},
   "outputs": [],
   "source": [
    "#Confusion matrix generation\n",
    "def create_confusion(actual,predicted,title):\n",
    "    import matplotlib.pyplot as plt\n",
    "    import numpy\n",
    "    from sklearn import metrics\n",
    "\n",
    "    confusion_matrix = metrics.confusion_matrix(actual, predicted)\n",
    "\n",
    "    cm_display = metrics.ConfusionMatrixDisplay(confusion_matrix = confusion_matrix, display_labels = ['Non Flood', 'Flood'])\n",
    "\n",
    "    cm_display.plot()\n",
    "    plt.title(title)\n",
    "    plt.xlabel(\"Predicted\")\n",
    "    plt.ylabel(\"Actual\")\n",
    "    plt.show()"
   ]
  },
  {
   "cell_type": "code",
   "execution_count": 14,
   "id": "bf126471-d870-4659-b333-17a1a4874ed8",
   "metadata": {},
   "outputs": [
    {
     "name": "stdout",
     "output_type": "stream",
     "text": [
      "D:\\Earth Science data\\flood detection\\task 1\n",
      "D:\\Earth Science data\\flood detection\\task 1\n"
     ]
    }
   ],
   "source": [
    "import os\n",
    "print(os.path.abspath(os.getcwd()))\n",
    "print(os.getcwd())"
   ]
  },
  {
   "cell_type": "code",
   "execution_count": null,
   "id": "c314ae0d-07e1-422e-ad51-5a323b665cc1",
   "metadata": {},
   "outputs": [],
   "source": []
  }
 ],
 "metadata": {
  "kernelspec": {
   "display_name": "Python 3 (ipykernel)",
   "language": "python",
   "name": "python3"
  },
  "language_info": {
   "codemirror_mode": {
    "name": "ipython",
    "version": 3
   },
   "file_extension": ".py",
   "mimetype": "text/x-python",
   "name": "python",
   "nbconvert_exporter": "python",
   "pygments_lexer": "ipython3",
   "version": "3.9.6"
  }
 },
 "nbformat": 4,
 "nbformat_minor": 5
}
