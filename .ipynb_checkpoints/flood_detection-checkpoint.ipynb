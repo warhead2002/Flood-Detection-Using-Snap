{
 "cells": [
  {
   "cell_type": "markdown",
   "id": "71c0113c-d94b-4be2-9483-988f3d6fe72e",
   "metadata": {},
   "source": [
    "<h1>Accuracy analysis of water regions on non flooded date</h1><br>\n",
    "    -Devise algo to detect water bodies<br>\n",
    "    -Run algo for all the images (with water/without water)<br>\n",
    "    -Create Confusion Matrix"
   ]
  },
  {
   "cell_type": "code",
   "execution_count": 90,
   "id": "22ce7ecd-f727-4920-91db-e8c080f08315",
   "metadata": {},
   "outputs": [],
   "source": [
    "#Library\n",
    "from PIL import Image\n",
    "\n",
    "def detect(filename,water_threshold):\n",
    "    #Lists\n",
    "    rgb=[]\n",
    "    flood_pixel=[]\n",
    "\n",
    "    # Read Image\n",
    "    img = Image.open(filename)\n",
    "\n",
    "    #Convert image to RGB format\n",
    "    img.convert('RGB')\n",
    "\n",
    "    #Find number of pixels\n",
    "    width, height = img.size\n",
    "    total_pixel=width*height\n",
    "\n",
    "    #Fetch colour of all pixels\n",
    "    for x in range(0, width):\n",
    "        for y in range(0, height):\n",
    "            r, g, b, t = img.getpixel((x,y))\n",
    "            rgb.append((r,g,b))\n",
    "\n",
    "    #set threshold and colour RGB values\n",
    "    diff = 50\n",
    "    colour = (0,0,255)\n",
    "\n",
    "    #Find pixels in range of colour+-threshold\n",
    "    for i in range(len(rgb)):\n",
    "        if rgb[i][0] in range(colour[0]-diff,colour[0]+diff):\n",
    "            r = rgb[i][0]\n",
    "            if rgb[i][1] in range(colour[1]-diff,colour[1]+diff):\n",
    "                g = rgb[i][1]\n",
    "                if rgb[i][2] in range(colour[2]-diff,colour[2]+diff):\n",
    "                    b = rgb[i][2]\n",
    "                    flood_pixel.append((r,g,b))\n",
    "\n",
    "    #Find percent of water present and if it is flooded or not\n",
    "    water_percent = len(flood_pixel)/total_pixel*100\n",
    "    print(\"Percentage of water: \",water_percent,'%')\n",
    "    if water_percent>water_threshold:\n",
    "        return 1\n",
    "    else:\n",
    "        return 0"
   ]
  },
  {
   "cell_type": "code",
   "execution_count": 101,
   "id": "f5608057-b045-4bcf-a8d8-968d44b88aac",
   "metadata": {},
   "outputs": [],
   "source": [
    "def create_confusion(actual,predicted,title):\n",
    "    #Confusion matrix generation\n",
    "    import matplotlib.pyplot as plt\n",
    "    import numpy\n",
    "    from sklearn import metrics\n",
    "\n",
    "    confusion_matrix = metrics.confusion_matrix(actual, predicted)\n",
    "\n",
    "    cm_display = metrics.ConfusionMatrixDisplay(confusion_matrix = confusion_matrix, display_labels = ['Non Flood', 'Flood'])\n",
    "\n",
    "    cm_display.plot()\n",
    "    plt.title(title)\n",
    "    plt.xlabel(\"Predicted\")\n",
    "    plt.ylabel(\"Actual\")\n",
    "    plt.show()"
   ]
  },
  {
   "cell_type": "code",
   "execution_count": 102,
   "id": "a62200f8-4c78-430b-a91d-d46de8ec8ec5",
   "metadata": {},
   "outputs": [
    {
     "name": "stdout",
     "output_type": "stream",
     "text": [
      "Percentage of water:  0.0065314859762675296 %\n",
      "Percentage of water:  0.022516214420262397 %\n",
      "Percentage of water:  3.6267280384513017 %\n",
      "Percentage of water:  2.4600584761157616 %\n",
      "Percentage of water:  6.940063091482649 %\n",
      "Percentage of water:  1.6368786604973742 %\n",
      "Percentage of water:  0.04050557246564891 %\n",
      "Percentage of water:  5.88118935727989 %\n",
      "Percentage of water:  5.979745851080751 %\n",
      "Percentage of water:  0.009323567971679303 %\n"
     ]
    },
    {
     "data": {
      "image/png": "[encoded data removed]",
      "text/plain": [
       "<Figure size 432x288 with 2 Axes>"
      ]
     },
     "metadata": {
      "needs_background": "light"
     },
     "output_type": "display_data"
    }
   ],
   "source": [
    "#Image iterations\n",
    "filename = ['benghazi.png','bikaner.png','delhi.png','kandahar.png','kyiv.png','london.png','nairobi.png','new-westminster.png','newyork.png','roswell.png']\n",
    "actual = [0,0,1,0,1,1,0,1,1,0]\n",
    "water_threshold = 1\n",
    "predicted = []\n",
    "for i in filename:\n",
    "    res = detect(i,water_threshold)\n",
    "    predicted.append(res)\n",
    "predicted\n",
    "create_confusion(actual,predicted,\"Water Detection\")"
   ]
  },
  {
   "cell_type": "markdown",
   "id": "c82e3ba5-fb24-4709-8033-e1b2c0ea1b54",
   "metadata": {},
   "source": [
    "<h1>Accuracy analysis of water regions on flood date</h1><br>\n",
    "    -Devise algo to detect water bodies<br>\n",
    "    -Run algo for all the images (with water/without water)<br>\n",
    "    -Create Confusion Matrix"
   ]
  },
  {
   "cell_type": "code",
   "execution_count": 103,
   "id": "2aee89f4-849e-40a5-9156-859ab0627a68",
   "metadata": {},
   "outputs": [
    {
     "name": "stdout",
     "output_type": "stream",
     "text": [
      "Percentage of water:  0.8232111505249202 %\n",
      "Percentage of water:  0.646057318061067 %\n",
      "Percentage of water:  2.1066089205809626 %\n",
      "Percentage of water:  0.6013747402840023 %\n",
      "Percentage of water:  1.661732385007647 %\n",
      "Percentage of water:  0.9053287864082953 %\n",
      "Percentage of water:  0.15908251913469348 %\n"
     ]
    },
    {
     "data": {
      "image/png": "[encoded data removed]",
      "text/plain": [
       "<Figure size 432x288 with 2 Axes>"
      ]
     },
     "metadata": {
      "needs_background": "light"
     },
     "output_type": "display_data"
    }
   ],
   "source": [
    "path = 'D:/Earth Science data/flood detection/task 1/'\n",
    "filename = ['bozkurt-flood.png','ceskalipa-flood.png','liege-flood.png','sarajevo-flood.png','skopje-flood.png','venice-flood.png','wales-flood.png']\n",
    "actual = [1,0,1,1,1,0,1]\n",
    "water_threshold = 1\n",
    "predicted = []\n",
    "for i in filename:\n",
    "    res = detect(path+i,water_threshold)\n",
    "    predicted.append(res)\n",
    "predicted\n",
    "create_confusion(actual,predicted,\"Flood Detection\")"
   ]
  },
  {
   "cell_type": "code",
   "execution_count": null,
   "id": "79eb3735-0f81-4ee9-b6f9-48cafbc9d120",
   "metadata": {},
   "outputs": [],
   "source": []
  }
 ],
 "metadata": {
  "kernelspec": {
   "display_name": "Python 3 (ipykernel)",
   "language": "python",
   "name": "python3"
  },
  "language_info": {
   "codemirror_mode": {
    "name": "ipython",
    "version": 3
   },
   "file_extension": ".py",
   "mimetype": "text/x-python",
   "name": "python",
   "nbconvert_exporter": "python",
   "pygments_lexer": "ipython3",
   "version": "3.9.6"
  }
 },
 "nbformat": 4,
 "nbformat_minor": 5
}
